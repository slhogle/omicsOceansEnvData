{
 "cells": [
  {
   "cell_type": "raw",
   "id": "05e11b35",
   "metadata": {
    "vscode": {
     "languageId": "raw"
    }
   },
   "source": [
    "---\n",
    "title: \"Download PISCES Biogeochemical model hindcast\"\n",
    "subtitle: \"Tara Oceans workflow\"\n",
    "author: \"Shane Hogle\"\n",
    "date: today\n",
    "abstract: \"Code in this notebook downloads PISCES model subsets corresponding to Tara stations from [Copernicus Marine Service](https://marine.copernicus.eu/). Files are then written locally in netcdf format, read and concatenated (using [`xarray`](https://docs.xarray.dev/en/stable/)), then output in tabular format for later use.\"\n",
    "jupyter: python3\n",
    "---"
   ]
  },
  {
   "cell_type": "markdown",
   "id": "ea34eb27-f928-40e8-8078-0dd6cde760bc",
   "metadata": {},
   "source": [
    "# Download PISCES model output"
   ]
  },
  {
   "cell_type": "markdown",
   "id": "6be0d20d",
   "metadata": {},
   "source": [
    " Here we download the hindcast ouput from the PISCES biogeochemical model corresponding to Tara Ocean samples. We use the [Copernicus Marine Toolbox](https://help.marine.copernicus.eu/en/collections/9080063-copernicus-marine-toolbox) python API with a tsv file containing the query coordinates as input (generated in a prior step) to download individual netcdf files for each coordinate query set.\n",
    " \n",
    " An alternative approach is to follow [this strategy](https://help.marine.copernicus.eu/en/articles/7970637-how-to-download-data-for-multiple-points-from-a-csv) where a Copernicus Marine data source is loaded as an xarray dataset using 'lazy-loading' mode. However, I found that opening the dataset remotely with lazy-loading was very slow. Subsetting the datset remotely, then downloading the subsetted product was much faster, albeit more clunky.\n",
    "\n",
    " **Note:** [you need to register with Copernicus Marine Data](https://data.marine.copernicus.eu/register) to use this resource."
   ]
  },
  {
   "cell_type": "markdown",
   "id": "badb5ddf-55cc-44b5-b47d-ed5febea1842",
   "metadata": {},
   "source": [
    "## Global Ocean Biogeochemistry Hindcast\n",
    "\n",
    "We will download all variables from the Global Ocean Biogeochemistry Hindcast for the grid point and time nearest to each Tara Oceans sample. After download these will be saved as a csv for later use.\n",
    "\n",
    "- Product: [GLOBAL_MULTIYEAR_BGC_001_029](https://data.marine.copernicus.eu/product/GLOBAL_MULTIYEAR_BGC_001_029/description)  \n",
    "- Dataset: `cmems_mod_glo_bgc_my_0.25deg_P1M-m`  \n",
    "  \n",
    "> The biogeochemical hindcast for global ocean is produced at Mercator-Ocean (Toulouse. France). It provides 3D biogeochemical fields since year 1993 at 1/4 degree and on 75 vertical levels. It uses PISCES biogeochemical model (available on the NEMO modelling platform). No data assimilation in this product.\n",
    ">\n",
    "> Latest NEMO version (v3.6_STABLE)\n",
    "> - **Forcings:** FREEGLORYS2V4 ocean physics produced at Mercator-Ocean and ERA-Interim atmosphere produced at ECMWF at a daily frequency\n",
    "> - **Outputs:** Daily (chlorophyll. nitrate. phosphate. silicate. dissolved oxygen. primary production) and monthly (chlorophyll. nitrate. phosphate. silicate. dissolved oxygen. primary production. iron. phytoplankton in carbon) 3D mean fields interpolated on a standard regular grid in NetCDF format. The simulation is performed once and for all.\n",
    "> - **Initial conditions:** World Ocean Atlas 2013 for nitrate. phosphate. silicate and dissolved oxygen. > GLODAPv2 for DIC and Alkalinity. and climatological model outputs for Iron and DOC\n",
    "> - **Quality/Accuracy/Calibration information:** See the [related QuID](https://documentation.marine.copernicus.eu/QUID/CMEMS-GLO-QUID-001-029.pdf)\n",
    "> - **DOI (product):** https://doi.org/10.48670/moi-00019"
   ]
  },
  {
   "cell_type": "markdown",
   "id": "2212fbad-48e5-4a87-907b-352bca369474",
   "metadata": {},
   "source": [
    "# Import libraries & functions"
   ]
  },
  {
   "cell_type": "markdown",
   "id": "f11b00c9-24c0-4ce5-af2b-28558c561fc7",
   "metadata": {},
   "source": [
    "We first import these libraries and define the `sort_dimension()` function to sort potential inverted axes. Here we are using Python `3.10.12`"
   ]
  },
  {
   "cell_type": "code",
   "execution_count": 1,
   "id": "07336109",
   "metadata": {},
   "outputs": [
    {
     "name": "stderr",
     "output_type": "stream",
     "text": [
      "/home/shane/Documents/projects/method_dev/hogle_lab/omicsOceansEnvData/.venv/lib/python3.10/site-packages/tqdm/auto.py:21: TqdmWarning: IProgress not found. Please update jupyter and ipywidgets. See https://ipywidgets.readthedocs.io/en/stable/user_install.html\n",
      "  from .autonotebook import tqdm as notebook_tqdm\n"
     ]
    }
   ],
   "source": [
    "import copernicusmarine as cm\n",
    "import xarray as xr\n",
    "import pandas as pd\n",
    "import pathlib\n",
    "import os"
   ]
  },
  {
   "cell_type": "markdown",
   "id": "2826486c",
   "metadata": {},
   "source": [
    "## Functions"
   ]
  },
  {
   "cell_type": "code",
   "execution_count": 2,
   "id": "5391ef73",
   "metadata": {},
   "outputs": [],
   "source": [
    "def get_project_root():\n",
    "    \"\"\"\n",
    "    Determines the root directory of the project by searching for specific markers.\n",
    "\n",
    "    The function searches for the presence of a `.venv`, `renv`, or `.git` directory\n",
    "    in the current working directory and its parent directories. The first directory\n",
    "    containing any of these markers is considered the project root.\n",
    "\n",
    "    Returns:\n",
    "      pathlib.Path: The path to the project root directory if found, otherwise None.\n",
    "    \"\"\"\n",
    "    current_path = pathlib.Path(os.getcwd())\n",
    "    for path in [current_path, *current_path.parents]:\n",
    "        if (path / \".venv\").exists() or (path / \"renv\").exists() or (path / \".git\").exists():\n",
    "            return path\n",
    "    return None\n",
    "\n",
    "\n",
    "def get_filename_without_extension(file_path):\n",
    "  \"\"\"\n",
    "  Extracts the filename without the extension from a given file path.\n",
    "\n",
    "  Args:\n",
    "    file_path: The path to the file.\n",
    "\n",
    "  Returns:\n",
    "    The filename without the extension.\n",
    "  \"\"\"\n",
    "  filename = os.path.basename(file_path)\n",
    "  name_without_extension, _ = os.path.splitext(filename)\n",
    "  return name_without_extension\n",
    "\n",
    "\n",
    "def read_netcdfs(files, dim):\n",
    "    def process_one_path(path):\n",
    "        \"\"\"\n",
    "        Processes a single file path to an xarray dataset.\n",
    "\n",
    "        This function reads an xarray dataset from the given file path, assigns a new \n",
    "        value to the dataset which is the basename of the file (without extension), \n",
    "        and loads all data from the transformed dataset to ensure it can be used \n",
    "        after closing the original file.\n",
    "\n",
    "        Parameters:\n",
    "        path (str): The file path to the xarray dataset.\n",
    "\n",
    "        Returns:\n",
    "        xarray.Dataset: The processed xarray dataset with the new 'query_id' attribute.\n",
    "        \"\"\"\n",
    "        # use a context manager, to ensure the file gets closed after use\n",
    "        with xr.open_dataset(path) as ds:\n",
    "            # assign new value which is basename of the file that was read\n",
    "            ds = ds.assign(query_id=get_filename_without_extension(path))\n",
    "            # load all data from the transformed dataset, to ensure we can\n",
    "            # use it after closing each original file\n",
    "            ds.load()\n",
    "            return ds\n",
    "\n",
    "    paths = sorted(files)\n",
    "    datasets = [process_one_path(p) for p in paths]\n",
    "    combined = xr.concat(datasets, dim, coords='minimal')\n",
    "    return combined"
   ]
  },
  {
   "cell_type": "markdown",
   "id": "057856ce",
   "metadata": {},
   "source": [
    "# Read input csv file of Tara coordinates\n",
    "\n",
    "Also perform some small formatting to generate unique identifiers for each `tara_station` + `depth` combination"
   ]
  },
  {
   "cell_type": "code",
   "execution_count": 3,
   "id": "9e65802a",
   "metadata": {},
   "outputs": [
    {
     "data": {
      "application/vnd.microsoft.datawrangler.viewer.v0+json": {
       "columns": [
        {
         "name": "index",
         "rawType": "int64",
         "type": "integer"
        },
        {
         "name": "tara_station",
         "rawType": "object",
         "type": "string"
        },
        {
         "name": "latitude",
         "rawType": "float64",
         "type": "float"
        },
        {
         "name": "longitude",
         "rawType": "float64",
         "type": "float"
        },
        {
         "name": "date_time",
         "rawType": "datetime64[ns]",
         "type": "datetime"
        },
        {
         "name": "depth",
         "rawType": "float64",
         "type": "float"
        },
        {
         "name": "query_id",
         "rawType": "object",
         "type": "string"
        }
       ],
       "conversionMethod": "pd.DataFrame",
       "ref": "f1aafa08-7c22-4125-8996-ecc952b15833",
       "rows": [
        [
         "0",
         "TARA_003",
         "36.672",
         "-10.421",
         "2009-09-13 00:00:00",
         "9.0",
         "TARA_003_d9"
        ],
        [
         "1",
         "TARA_004",
         "36.563",
         "-6.553",
         "2009-09-15 00:00:00",
         "9.0",
         "TARA_004_d9"
        ],
        [
         "2",
         "TARA_004",
         "36.563",
         "-6.553",
         "2009-09-15 00:00:00",
         "40.0",
         "TARA_004_d40"
        ],
        [
         "3",
         "TARA_005",
         "36.03",
         "-4.405",
         "2009-09-20 00:00:00",
         "9.0",
         "TARA_005_d9"
        ],
        [
         "4",
         "TARA_005",
         "36.03",
         "-4.405",
         "2009-09-20 00:00:00",
         "68.0",
         "TARA_005_d68"
        ],
        [
         "5",
         "TARA_006",
         "36.529",
         "-4.251",
         "2009-09-21 00:00:00",
         "9.0",
         "TARA_006_d9"
        ],
        [
         "6",
         "TARA_006",
         "36.529",
         "-4.251",
         "2009-09-21 00:00:00",
         "35.0",
         "TARA_006_d35"
        ],
        [
         "7",
         "TARA_007",
         "37.031",
         "1.948",
         "2009-09-23 00:00:00",
         "9.0",
         "TARA_007_d9"
        ],
        [
         "8",
         "TARA_007",
         "37.031",
         "1.948",
         "2009-09-23 00:00:00",
         "42.0",
         "TARA_007_d42"
        ],
        [
         "9",
         "TARA_008",
         "38.011",
         "3.966",
         "2009-09-27 00:00:00",
         "9.0",
         "TARA_008_d9"
        ],
        [
         "10",
         "TARA_008",
         "38.011",
         "3.966",
         "2009-09-27 00:00:00",
         "45.0",
         "TARA_008_d45"
        ],
        [
         "11",
         "TARA_008",
         "38.011",
         "3.966",
         "2009-09-27 00:00:00",
         "41.0",
         "TARA_008_d41"
        ],
        [
         "12",
         "TARA_009",
         "39.112",
         "5.819",
         "2009-09-28 00:00:00",
         "9.0",
         "TARA_009_d9"
        ],
        [
         "13",
         "TARA_009",
         "39.112",
         "5.819",
         "2009-09-28 00:00:00",
         "55.0",
         "TARA_009_d55"
        ],
        [
         "14",
         "TARA_009",
         "39.112",
         "5.819",
         "2009-09-28 00:00:00",
         "60.0",
         "TARA_009_d60"
        ],
        [
         "15",
         "TARA_010",
         "40.668",
         "2.865",
         "2009-09-30 00:00:00",
         "9.0",
         "TARA_010_d9"
        ],
        [
         "16",
         "TARA_010",
         "40.668",
         "2.865",
         "2009-09-30 00:00:00",
         "70.0",
         "TARA_010_d70"
        ],
        [
         "17",
         "TARA_010",
         "40.668",
         "2.865",
         "2009-09-30 00:00:00",
         "110.0",
         "TARA_010_d110"
        ],
        [
         "18",
         "TARA_011",
         "41.666",
         "2.798",
         "2009-10-04 00:00:00",
         "9.0",
         "TARA_011_d9"
        ],
        [
         "19",
         "TARA_012",
         "43.348",
         "7.899",
         "2009-10-11 00:00:00",
         "5.0",
         "TARA_012_d5"
        ],
        [
         "20",
         "TARA_012",
         "43.348",
         "7.899",
         "2009-10-11 00:00:00",
         "50.0",
         "TARA_012_d50"
        ],
        [
         "21",
         "TARA_014",
         "39.902",
         "12.858",
         "2009-10-20 00:00:00",
         "5.0",
         "TARA_014_d5"
        ],
        [
         "22",
         "TARA_016",
         "37.398",
         "15.454",
         "2009-10-27 00:00:00",
         "5.0",
         "TARA_016_d5"
        ],
        [
         "23",
         "TARA_016",
         "37.398",
         "15.454",
         "2009-10-27 00:00:00",
         "65.0",
         "TARA_016_d65"
        ],
        [
         "24",
         "TARA_017",
         "36.258",
         "14.306",
         "2009-10-28 00:00:00",
         "5.0",
         "TARA_017_d5"
        ],
        [
         "25",
         "TARA_017",
         "36.258",
         "14.306",
         "2009-10-28 00:00:00",
         "90.0",
         "TARA_017_d90"
        ],
        [
         "26",
         "TARA_018",
         "35.756",
         "14.287",
         "2009-11-02 00:00:00",
         "5.0",
         "TARA_018_d5"
        ],
        [
         "27",
         "TARA_018",
         "35.756",
         "14.287",
         "2009-11-02 00:00:00",
         "60.0",
         "TARA_018_d60"
        ],
        [
         "28",
         "TARA_018",
         "35.756",
         "14.287",
         "2009-11-02 00:00:00",
         "80.0",
         "TARA_018_d80"
        ],
        [
         "29",
         "TARA_019",
         "34.215",
         "13.865",
         "2009-11-11 00:00:00",
         "5.0",
         "TARA_019_d5"
        ],
        [
         "30",
         "TARA_019",
         "34.215",
         "13.865",
         "2009-11-11 00:00:00",
         "50.0",
         "TARA_019_d50"
        ],
        [
         "31",
         "TARA_020",
         "34.451",
         "14.973",
         "2009-11-12 00:00:00",
         "5.0",
         "TARA_020_d5"
        ],
        [
         "32",
         "TARA_021",
         "37.511",
         "17.285",
         "2009-11-15 00:00:00",
         "5.0",
         "TARA_021_d5"
        ],
        [
         "33",
         "TARA_021",
         "37.511",
         "17.285",
         "2009-11-15 00:00:00",
         "250.0",
         "TARA_021_d250"
        ],
        [
         "34",
         "TARA_022",
         "39.729",
         "17.4",
         "2009-11-16 00:00:00",
         "5.0",
         "TARA_022_d5"
        ],
        [
         "35",
         "TARA_022",
         "39.729",
         "17.4",
         "2009-11-16 00:00:00",
         "30.0",
         "TARA_022_d30"
        ],
        [
         "36",
         "TARA_022",
         "39.729",
         "17.4",
         "2009-11-16 00:00:00",
         "60.0",
         "TARA_022_d60"
        ],
        [
         "37",
         "TARA_023",
         "42.176",
         "17.729",
         "2009-11-18 00:00:00",
         "5.0",
         "TARA_023_d5"
        ],
        [
         "38",
         "TARA_023",
         "42.176",
         "17.729",
         "2009-11-18 00:00:00",
         "50.0",
         "TARA_023_d50"
        ],
        [
         "39",
         "TARA_023",
         "42.176",
         "17.729",
         "2009-11-18 00:00:00",
         "55.0",
         "TARA_023_d55"
        ],
        [
         "40",
         "TARA_024",
         "42.457",
         "17.956",
         "2009-11-21 00:00:00",
         "5.0",
         "TARA_024_d5"
        ],
        [
         "41",
         "TARA_025",
         "39.333",
         "19.421",
         "2009-11-23 00:00:00",
         "5.0",
         "TARA_025_d5"
        ],
        [
         "42",
         "TARA_025",
         "39.333",
         "19.421",
         "2009-11-23 00:00:00",
         "50.0",
         "TARA_025_d50"
        ],
        [
         "43",
         "TARA_026",
         "38.431",
         "20.188",
         "2009-11-24 00:00:00",
         "5.0",
         "TARA_026_d5"
        ],
        [
         "44",
         "TARA_030",
         "33.929",
         "32.789",
         "2009-12-15 00:00:00",
         "5.0",
         "TARA_030_d5"
        ],
        [
         "45",
         "TARA_030",
         "33.929",
         "32.789",
         "2009-12-15 00:00:00",
         "70.0",
         "TARA_030_d70"
        ],
        [
         "46",
         "TARA_031",
         "27.151",
         "34.819",
         "2010-01-09 00:00:00",
         "5.0",
         "TARA_031_d5"
        ],
        [
         "47",
         "TARA_032",
         "23.391",
         "37.254",
         "2010-01-11 00:00:00",
         "5.0",
         "TARA_032_d5"
        ],
        [
         "48",
         "TARA_032",
         "23.391",
         "37.254",
         "2010-01-11 00:00:00",
         "80.0",
         "TARA_032_d80"
        ],
        [
         "49",
         "TARA_033",
         "22.057",
         "38.218",
         "2010-01-13 00:00:00",
         "5.0",
         "TARA_033_d5"
        ]
       ],
       "shape": {
        "columns": 6,
        "rows": 306
       }
      },
      "text/html": [
       "<div>\n",
       "<style scoped>\n",
       "    .dataframe tbody tr th:only-of-type {\n",
       "        vertical-align: middle;\n",
       "    }\n",
       "\n",
       "    .dataframe tbody tr th {\n",
       "        vertical-align: top;\n",
       "    }\n",
       "\n",
       "    .dataframe thead th {\n",
       "        text-align: right;\n",
       "    }\n",
       "</style>\n",
       "<table border=\"1\" class=\"dataframe\">\n",
       "  <thead>\n",
       "    <tr style=\"text-align: right;\">\n",
       "      <th></th>\n",
       "      <th>tara_station</th>\n",
       "      <th>latitude</th>\n",
       "      <th>longitude</th>\n",
       "      <th>date_time</th>\n",
       "      <th>depth</th>\n",
       "      <th>query_id</th>\n",
       "    </tr>\n",
       "  </thead>\n",
       "  <tbody>\n",
       "    <tr>\n",
       "      <th>0</th>\n",
       "      <td>TARA_003</td>\n",
       "      <td>36.672</td>\n",
       "      <td>-10.421</td>\n",
       "      <td>2009-09-13</td>\n",
       "      <td>9.0</td>\n",
       "      <td>TARA_003_d9</td>\n",
       "    </tr>\n",
       "    <tr>\n",
       "      <th>1</th>\n",
       "      <td>TARA_004</td>\n",
       "      <td>36.563</td>\n",
       "      <td>-6.553</td>\n",
       "      <td>2009-09-15</td>\n",
       "      <td>9.0</td>\n",
       "      <td>TARA_004_d9</td>\n",
       "    </tr>\n",
       "    <tr>\n",
       "      <th>2</th>\n",
       "      <td>TARA_004</td>\n",
       "      <td>36.563</td>\n",
       "      <td>-6.553</td>\n",
       "      <td>2009-09-15</td>\n",
       "      <td>40.0</td>\n",
       "      <td>TARA_004_d40</td>\n",
       "    </tr>\n",
       "    <tr>\n",
       "      <th>3</th>\n",
       "      <td>TARA_005</td>\n",
       "      <td>36.030</td>\n",
       "      <td>-4.405</td>\n",
       "      <td>2009-09-20</td>\n",
       "      <td>9.0</td>\n",
       "      <td>TARA_005_d9</td>\n",
       "    </tr>\n",
       "    <tr>\n",
       "      <th>4</th>\n",
       "      <td>TARA_005</td>\n",
       "      <td>36.030</td>\n",
       "      <td>-4.405</td>\n",
       "      <td>2009-09-20</td>\n",
       "      <td>68.0</td>\n",
       "      <td>TARA_005_d68</td>\n",
       "    </tr>\n",
       "    <tr>\n",
       "      <th>...</th>\n",
       "      <td>...</td>\n",
       "      <td>...</td>\n",
       "      <td>...</td>\n",
       "      <td>...</td>\n",
       "      <td>...</td>\n",
       "      <td>...</td>\n",
       "    </tr>\n",
       "    <tr>\n",
       "      <th>301</th>\n",
       "      <td>TARA_208</td>\n",
       "      <td>69.107</td>\n",
       "      <td>-51.578</td>\n",
       "      <td>2013-10-20</td>\n",
       "      <td>5.0</td>\n",
       "      <td>TARA_208_d5</td>\n",
       "    </tr>\n",
       "    <tr>\n",
       "      <th>302</th>\n",
       "      <td>TARA_209</td>\n",
       "      <td>64.728</td>\n",
       "      <td>-53.467</td>\n",
       "      <td>2013-10-23</td>\n",
       "      <td>5.0</td>\n",
       "      <td>TARA_209_d5</td>\n",
       "    </tr>\n",
       "    <tr>\n",
       "      <th>303</th>\n",
       "      <td>TARA_209</td>\n",
       "      <td>64.728</td>\n",
       "      <td>-53.467</td>\n",
       "      <td>2013-10-23</td>\n",
       "      <td>200.0</td>\n",
       "      <td>TARA_209_d200</td>\n",
       "    </tr>\n",
       "    <tr>\n",
       "      <th>304</th>\n",
       "      <td>TARA_210</td>\n",
       "      <td>61.544</td>\n",
       "      <td>-55.985</td>\n",
       "      <td>2013-10-27</td>\n",
       "      <td>5.0</td>\n",
       "      <td>TARA_210_d5</td>\n",
       "    </tr>\n",
       "    <tr>\n",
       "      <th>305</th>\n",
       "      <td>TARA_210</td>\n",
       "      <td>61.544</td>\n",
       "      <td>-55.985</td>\n",
       "      <td>2013-10-27</td>\n",
       "      <td>391.0</td>\n",
       "      <td>TARA_210_d391</td>\n",
       "    </tr>\n",
       "  </tbody>\n",
       "</table>\n",
       "<p>306 rows × 6 columns</p>\n",
       "</div>"
      ],
      "text/plain": [
       "    tara_station  latitude  longitude  date_time  depth       query_id\n",
       "0       TARA_003    36.672    -10.421 2009-09-13    9.0    TARA_003_d9\n",
       "1       TARA_004    36.563     -6.553 2009-09-15    9.0    TARA_004_d9\n",
       "2       TARA_004    36.563     -6.553 2009-09-15   40.0   TARA_004_d40\n",
       "3       TARA_005    36.030     -4.405 2009-09-20    9.0    TARA_005_d9\n",
       "4       TARA_005    36.030     -4.405 2009-09-20   68.0   TARA_005_d68\n",
       "..           ...       ...        ...        ...    ...            ...\n",
       "301     TARA_208    69.107    -51.578 2013-10-20    5.0    TARA_208_d5\n",
       "302     TARA_209    64.728    -53.467 2013-10-23    5.0    TARA_209_d5\n",
       "303     TARA_209    64.728    -53.467 2013-10-23  200.0  TARA_209_d200\n",
       "304     TARA_210    61.544    -55.985 2013-10-27    5.0    TARA_210_d5\n",
       "305     TARA_210    61.544    -55.985 2013-10-27  391.0  TARA_210_d391\n",
       "\n",
       "[306 rows x 6 columns]"
      ]
     },
     "execution_count": 3,
     "metadata": {},
     "output_type": "execute_result"
    }
   ],
   "source": [
    "# get the project root\n",
    "proj_root=get_project_root()\n",
    "\n",
    "# Read the CSV in a pandas dataframe\n",
    "query_coords = pd.read_csv(\n",
    "    str(proj_root)+\"/data/tara/pisces_subsets/pisces_tara_grid_map.csv\")\n",
    "\n",
    "# subset to columns of interest\n",
    "query_coords = query_coords.loc[:, ['tara_station',\n",
    "                                    'latitude', 'longitude', 'date_time', 'depth']] \n",
    "\n",
    "# make a new unique identifer\n",
    "query_coords[\"query_id\"] = query_coords[\"tara_station\"] + \"_d\" + query_coords[\"depth\"].astype('int').astype('str')\n",
    "\n",
    "# Convert columns into right format\n",
    "query_coords[\"date_time\"] = pd.to_datetime(\n",
    "    query_coords[\"date_time\"])\n",
    "\n",
    "# drop rows with duplicate information\n",
    "query_coords = query_coords.drop_duplicates()\n",
    "\n",
    "query_coords"
   ]
  },
  {
   "cell_type": "markdown",
   "id": "8102a40b",
   "metadata": {},
   "source": [
    "# Download from Copernicus marine"
   ]
  },
  {
   "cell_type": "code",
   "execution_count": 18,
   "id": "24b4b2d9",
   "metadata": {},
   "outputs": [
    {
     "name": "stdout",
     "output_type": "stream",
     "text": [
      "CPU times: user 36min 50s, sys: 1min 49s, total: 38min 40s\n",
      "Wall time: 1h 42min 57s\n"
     ]
    }
   ],
   "source": [
    "%%time\n",
    "for rec in query_coords.to_dict('records'):\n",
    "  nc_path = pathlib.Path(str(proj_root)+ str('/data/tara/pisces_subsets/') + rec['query_id'] + '.nc')\n",
    "  if not nc_path.exists():\n",
    "    cm.subset(\n",
    "      dataset_id=\"cmems_mod_glo_bgc_my_0.25deg_P1M-m\",\n",
    "      start_datetime=str(rec['date_time']),\n",
    "      end_datetime=str(rec['date_time']),\n",
    "      minimum_longitude=rec['longitude'],\n",
    "      maximum_longitude=rec['longitude'],\n",
    "      minimum_latitude=rec['latitude'],\n",
    "      maximum_latitude=rec['latitude'],\n",
    "      minimum_depth=rec['depth'],\n",
    "      maximum_depth=rec['depth'],\n",
    "      coordinates_selection_method=\"nearest\",\n",
    "      output_filename=rec['query_id'],\n",
    "      output_directory=str(proj_root) + str('/data/tara/pisces_subsets'),\n",
    "      disable_progress_bar=False\n",
    "  )"
   ]
  },
  {
   "cell_type": "markdown",
   "id": "c435416e",
   "metadata": {},
   "source": [
    "# Read and format netcdf output\n",
    "\n",
    "You would think that [`xarray.open_mfdataset`](https://docs.xarray.dev/en/stable/generated/xarray.open_mfdataset.html#xarray.open_mfdataset) is the best way to read all the netcdf files from the last step. However, this is very slow for opening lots of small netcdf files. \n",
    "\n",
    "The more efficient approach is to just use a custom function `read_netcdfs` defined above."
   ]
  },
  {
   "cell_type": "code",
   "execution_count": 10,
   "id": "07173189",
   "metadata": {},
   "outputs": [],
   "source": [
    "# get listing of all files in the pisces_subsets\n",
    "flist=[x for x in pathlib.Path(\n",
    "    str(proj_root) + str('/data/tara/pisces_subsets/')).glob('*.nc') if x.is_file()]"
   ]
  },
  {
   "cell_type": "code",
   "execution_count": 11,
   "id": "3947577a",
   "metadata": {},
   "outputs": [],
   "source": [
    "# read and concatenate nc files \n",
    "datasets = read_netcdfs(flist, \"latitude\")"
   ]
  },
  {
   "cell_type": "markdown",
   "id": "6ec9adda",
   "metadata": {},
   "source": [
    "Convert the xarray concatenated datasets to a dataframe ([`to_dataframe`](https://docs.xarray.dev/en/latest/generated/xarray.Dataset.to_dataframe.html#xarray.Dataset.to_dataframe))"
   ]
  },
  {
   "cell_type": "code",
   "execution_count": 12,
   "id": "42d681be",
   "metadata": {},
   "outputs": [],
   "source": [
    "# convert concatenated xarrays to pandas dataframe\n",
    "dataframes = datasets.to_dataframe(\n",
    "    dim_order=['latitude', 'longitude', 'depth', 'time']).dropna()"
   ]
  },
  {
   "cell_type": "markdown",
   "id": "419cc996",
   "metadata": {},
   "source": [
    "Save as tsv for later use"
   ]
  },
  {
   "cell_type": "code",
   "execution_count": 14,
   "id": "1a6f72c6",
   "metadata": {},
   "outputs": [],
   "source": [
    "# write the output \n",
    "dataframes.to_csv(\n",
    "    str(proj_root) + str('/data/tara/pisces_subsets/pisces_tara_subset_filt.tsv'), sep='\\t')"
   ]
  },
  {
   "cell_type": "markdown",
   "id": "fca93b30-6d30-47a6-b659-0e0c72010c0a",
   "metadata": {},
   "source": [
    "## Work environment"
   ]
  },
  {
   "cell_type": "code",
   "execution_count": null,
   "id": "ffe0b571-d910-43fc-a9ec-49200bf409e8",
   "metadata": {},
   "outputs": [
    {
     "data": {
      "text/html": [
       "<details>\n",
       "<summary>Click to view session information</summary>\n",
       "<pre>\n",
       "-----\n",
       "copernicusmarine    2.0.0\n",
       "pandas              2.2.3\n",
       "session_info        1.0.0\n",
       "xarray              2025.1.2\n",
       "-----\n",
       "</pre>\n",
       "<details>\n",
       "<summary>Click to view modules imported as dependencies</summary>\n",
       "<pre>\n",
       "annotated_types     0.7.0\n",
       "asciitree           NA\n",
       "asttokens           NA\n",
       "backports           NA\n",
       "boto3               1.36.16\n",
       "botocore            1.36.16\n",
       "certifi             2025.01.31\n",
       "charset_normalizer  3.4.1\n",
       "click               8.1.8\n",
       "cloudpickle         3.1.1\n",
       "comm                0.2.2\n",
       "cython_runtime      NA\n",
       "dask                2025.1.0\n",
       "dateutil            2.9.0.post0\n",
       "debugpy             1.8.12\n",
       "decorator           5.1.1\n",
       "exceptiongroup      1.2.2\n",
       "executing           2.2.0\n",
       "fsspec              2025.2.0\n",
       "h5netcdf            1.5.0\n",
       "h5py                3.12.1\n",
       "idna                3.10\n",
       "importlib_metadata  NA\n",
       "ipykernel           6.29.5\n",
       "jaraco              NA\n",
       "jedi                0.19.2\n",
       "jmespath            1.0.1\n",
       "lxml                5.3.0\n",
       "more_itertools      10.3.0\n",
       "numcodecs           0.13.1\n",
       "numpy               2.2.2\n",
       "packaging           24.2\n",
       "parso               0.8.4\n",
       "pkg_resources       NA\n",
       "platformdirs        4.3.6\n",
       "prompt_toolkit      3.0.50\n",
       "psutil              6.1.1\n",
       "pure_eval           0.2.3\n",
       "pydantic            2.10.6\n",
       "pydantic_core       2.27.2\n",
       "pydev_ipython       NA\n",
       "pydevconsole        NA\n",
       "pydevd              3.2.3\n",
       "pydevd_file_utils   NA\n",
       "pydevd_plugins      NA\n",
       "pydevd_tracing      NA\n",
       "pygments            2.19.1\n",
       "pystac              1.12.1\n",
       "pytz                2025.1\n",
       "requests            2.32.3\n",
       "s3transfer          0.11.2\n",
       "semver              3.0.4\n",
       "sitecustomize       NA\n",
       "six                 1.17.0\n",
       "stack_data          0.6.3\n",
       "tlz                 1.0.0\n",
       "toolz               1.0.0\n",
       "tornado             6.4.2\n",
       "tqdm                4.67.1\n",
       "traitlets           5.14.3\n",
       "typing_extensions   NA\n",
       "urllib3             2.3.0\n",
       "vscode              NA\n",
       "wcwidth             0.2.13\n",
       "yaml                6.0.2\n",
       "zarr                2.18.3\n",
       "zipp                NA\n",
       "zmq                 26.2.1\n",
       "zoneinfo            NA\n",
       "</pre>\n",
       "</details> <!-- seems like this ends pre, so might as well be explicit -->\n",
       "<pre>\n",
       "-----\n",
       "IPython             8.32.0\n",
       "jupyter_client      8.6.3\n",
       "jupyter_core        5.7.2\n",
       "-----\n",
       "Python 3.10.12 (main, Sep 11 2024, 15:47:36) [GCC 11.4.0]\n",
       "Linux-6.9.3-76060903-generic-x86_64-with-glibc2.35\n",
       "-----\n",
       "Session information updated at 2025-02-08 23:52\n",
       "</pre>\n",
       "</details>"
      ],
      "text/plain": [
       "<IPython.core.display.HTML object>"
      ]
     },
     "execution_count": 46,
     "metadata": {},
     "output_type": "execute_result"
    }
   ],
   "source": [
    "import session_info\n",
    "session_info.show()"
   ]
  }
 ],
 "metadata": {
  "kernelspec": {
   "display_name": ".venv",
   "language": "python",
   "name": "python3"
  },
  "language_info": {
   "codemirror_mode": {
    "name": "ipython",
    "version": 3
   },
   "file_extension": ".py",
   "mimetype": "text/x-python",
   "name": "python",
   "nbconvert_exporter": "python",
   "pygments_lexer": "ipython3",
   "version": "3.10.12"
  }
 },
 "nbformat": 4,
 "nbformat_minor": 5
}
